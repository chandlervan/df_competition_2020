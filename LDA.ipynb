{
 "cells": [
  {
   "cell_type": "code",
   "execution_count": 22,
   "metadata": {
    "ExecuteTime": {
     "end_time": "2020-03-03T15:27:55.525956Z",
     "start_time": "2020-03-03T15:27:55.294425Z"
    }
   },
   "outputs": [],
   "source": [
    "import pandas as pd\n",
    "import json\n",
    "import codecs\n",
    "import re\n",
    "from collections import Counter\n",
    "import warnings\n",
    "import jieba\n",
    "from sklearn.metrics import f1_score\n",
    "warnings.filterwarnings('ignore')"
   ]
  },
  {
   "cell_type": "code",
   "execution_count": 2,
   "metadata": {
    "ExecuteTime": {
     "end_time": "2020-03-03T14:48:43.378151Z",
     "start_time": "2020-03-03T14:48:35.187634Z"
    }
   },
   "outputs": [],
   "source": [
    "with codecs.open('./dataset/nCoV_900k_train.unlabled.csv','rb',errors='ignore') as f:\n",
    "    data = []\n",
    "    for line in f.readlines():\n",
    "        data.append(codecs.decode(line,'gbk',errors='ignore').strip('\\r\\n'))"
   ]
  },
  {
   "cell_type": "code",
   "execution_count": 5,
   "metadata": {
    "ExecuteTime": {
     "end_time": "2020-03-03T14:54:00.903537Z",
     "start_time": "2020-03-03T14:53:53.159980Z"
    }
   },
   "outputs": [],
   "source": [
    "tmp_train_data = [v.split(',[') for v in data]\n",
    "tmp_train_data = [v for v in tmp_train_data if len(v)<4]\n",
    "text = [[v[0].split(',')[0],''.join(v[0].split(',')[3:]),v[-1].split(',')[-1]] for v in tmp_train_data]"
   ]
  },
  {
   "cell_type": "code",
   "execution_count": 15,
   "metadata": {
    "ExecuteTime": {
     "end_time": "2020-03-03T15:15:05.487553Z",
     "start_time": "2020-03-03T15:15:05.480970Z"
    }
   },
   "outputs": [],
   "source": [
    "patt = re.compile(\"[\\s+\\.\\!\\/_,$%^*(+\\\"\\']+|[+——！，。？、~@#￥%……&*（）～]+?\")\n",
    "text = [v[1] for v in text]\n",
    "text = [re.sub(patt, '', v) for v in text]"
   ]
  },
  {
   "cell_type": "code",
   "execution_count": 24,
   "metadata": {
    "ExecuteTime": {
     "end_time": "2020-03-03T15:47:01.834381Z",
     "start_time": "2020-03-03T15:34:50.793338Z"
    }
   },
   "outputs": [
    {
     "name": "stderr",
     "output_type": "stream",
     "text": [
      "\n",
      "KeyboardInterrupt\n",
      "\n"
     ]
    }
   ],
   "source": [
    "segment = [jieba.lcut(v) for v in text]"
   ]
  },
  {
   "cell_type": "code",
   "execution_count": null,
   "metadata": {},
   "outputs": [],
   "source": []
  }
 ],
 "metadata": {
  "kernelspec": {
   "display_name": "Python 3",
   "language": "python",
   "name": "python3"
  },
  "language_info": {
   "codemirror_mode": {
    "name": "ipython",
    "version": 3
   },
   "file_extension": ".py",
   "mimetype": "text/x-python",
   "name": "python",
   "nbconvert_exporter": "python",
   "pygments_lexer": "ipython3",
   "version": "3.6.1"
  },
  "toc": {
   "base_numbering": 1,
   "nav_menu": {},
   "number_sections": true,
   "sideBar": true,
   "skip_h1_title": false,
   "title_cell": "Table of Contents",
   "title_sidebar": "Contents",
   "toc_cell": false,
   "toc_position": {},
   "toc_section_display": true,
   "toc_window_display": false
  }
 },
 "nbformat": 4,
 "nbformat_minor": 2
}
